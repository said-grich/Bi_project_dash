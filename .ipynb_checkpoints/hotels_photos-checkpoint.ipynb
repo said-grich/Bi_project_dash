{
 "cells": [
  {
   "cell_type": "code",
   "execution_count": 13,
   "id": "45155cc8",
   "metadata": {
    "scrolled": true
   },
   "outputs": [
    {
     "data": {
      "text/html": [
       "<div>\n",
       "<style scoped>\n",
       "    .dataframe tbody tr th:only-of-type {\n",
       "        vertical-align: middle;\n",
       "    }\n",
       "\n",
       "    .dataframe tbody tr th {\n",
       "        vertical-align: top;\n",
       "    }\n",
       "\n",
       "    .dataframe thead th {\n",
       "        text-align: right;\n",
       "    }\n",
       "</style>\n",
       "<table border=\"1\" class=\"dataframe\">\n",
       "  <thead>\n",
       "    <tr style=\"text-align: right;\">\n",
       "      <th></th>\n",
       "      <th>Id_hotel</th>\n",
       "      <th>Hotel_name</th>\n",
       "    </tr>\n",
       "  </thead>\n",
       "  <tbody>\n",
       "    <tr>\n",
       "      <th>0</th>\n",
       "      <td>1HL8s9dzei0H</td>\n",
       "      <td>Hotel 2Ciels Boutique Hôtel</td>\n",
       "    </tr>\n",
       "    <tr>\n",
       "      <th>1</th>\n",
       "      <td>2HFzweri7afH</td>\n",
       "      <td>Hotel Amérian Villa Maria Park Hotel</td>\n",
       "    </tr>\n",
       "    <tr>\n",
       "      <th>2</th>\n",
       "      <td>1HvmrinapssH</td>\n",
       "      <td>Hotel Wazo Hotel</td>\n",
       "    </tr>\n",
       "    <tr>\n",
       "      <th>3</th>\n",
       "      <td>1Ax5m31d2mjH</td>\n",
       "      <td>Hotel ADDRESS Hôtel Casablanca</td>\n",
       "    </tr>\n",
       "    <tr>\n",
       "      <th>4</th>\n",
       "      <td>2aG879sv7ziH</td>\n",
       "      <td>Hotel Hotel Argana Agadir</td>\n",
       "    </tr>\n",
       "    <tr>\n",
       "      <th>...</th>\n",
       "      <td>...</td>\n",
       "      <td>...</td>\n",
       "    </tr>\n",
       "    <tr>\n",
       "      <th>93</th>\n",
       "      <td>88Tgsdfv7qboH</td>\n",
       "      <td>Resort The Source At Sula</td>\n",
       "    </tr>\n",
       "    <tr>\n",
       "      <th>94</th>\n",
       "      <td>89VA3pv3dtieH</td>\n",
       "      <td>Hotel Valeria Lixus Beach Resort - All In</td>\n",
       "    </tr>\n",
       "    <tr>\n",
       "      <th>95</th>\n",
       "      <td>90VDd3ofgvxnH</td>\n",
       "      <td>Hotel Vent Des Dunes</td>\n",
       "    </tr>\n",
       "    <tr>\n",
       "      <th>96</th>\n",
       "      <td>91WPtpbc9j26H</td>\n",
       "      <td>Hotel Waves Aqua Hotel</td>\n",
       "    </tr>\n",
       "    <tr>\n",
       "      <th>97</th>\n",
       "      <td>92WEuesznctgH</td>\n",
       "      <td>Hotel Widiane Suites And Spa</td>\n",
       "    </tr>\n",
       "  </tbody>\n",
       "</table>\n",
       "<p>98 rows × 2 columns</p>\n",
       "</div>"
      ],
      "text/plain": [
       "         Id_hotel                                 Hotel_name\n",
       "0    1HL8s9dzei0H                Hotel 2Ciels Boutique Hôtel\n",
       "1    2HFzweri7afH       Hotel Amérian Villa Maria Park Hotel\n",
       "2    1HvmrinapssH                           Hotel Wazo Hotel\n",
       "3    1Ax5m31d2mjH             Hotel ADDRESS Hôtel Casablanca\n",
       "4    2aG879sv7ziH                  Hotel Hotel Argana Agadir\n",
       "..            ...                                        ...\n",
       "93  88Tgsdfv7qboH                  Resort The Source At Sula\n",
       "94  89VA3pv3dtieH  Hotel Valeria Lixus Beach Resort - All In\n",
       "95  90VDd3ofgvxnH                       Hotel Vent Des Dunes\n",
       "96  91WPtpbc9j26H                     Hotel Waves Aqua Hotel\n",
       "97  92WEuesznctgH               Hotel Widiane Suites And Spa\n",
       "\n",
       "[98 rows x 2 columns]"
      ]
     },
     "execution_count": 13,
     "metadata": {},
     "output_type": "execute_result"
    }
   ],
   "source": [
    "import pandas as pd\n",
    "import pandas as pd\n",
    "import plotly.express as px\n",
    "from selenium import webdriver\n",
    "import time\n",
    "\n",
    "from selenium.webdriver import ActionChains, DesiredCapabilities\n",
    "from selenium.webdriver.common.by import By\n",
    "from selenium.webdriver.support.ui import WebDriverWait\n",
    "from selenium.webdriver.support import expected_conditions as EC\n",
    "from selenium.common.exceptions import NoSuchElementException, TimeoutException\n",
    "from wordcloud import WordCloud, STOPWORDS, ImageColorGenerator\n",
    "import matplotlib.pyplot as plt\n",
    "from sqlalchemy import create_engine\n",
    "sqlEngine = create_engine('mysql+pymysql://root:@127.0.0.1/test_database', pool_recycle=3600)\n",
    "dbConnection = sqlEngine.connect()\n",
    "query='SELECT Id_hotel,Hotel_name FROM `dim_hotel` WHERE 1;'\n",
    "df = pd.read_sql(query, dbConnection);\n",
    "df"
   ]
  },
  {
   "cell_type": "code",
   "execution_count": 90,
   "id": "55a196d4",
   "metadata": {},
   "outputs": [],
   "source": [
    "import requests\n",
    "def save_hoel_photo(hotel_name,id):\n",
    "        path='D:\\hotel_photo\\\\'\n",
    "        chrome_options = webdriver.ChromeOptions()\n",
    "        chrome_options.add_argument('--disable-gpu')\n",
    "        chrome_options.add_argument(\"--disable-notifications\")\n",
    "        chrome_options.add_argument('--headless')\n",
    "\n",
    "        chrome_options.add_argument(\n",
    "            \"user-agent=Mozilla/5.0 (Windows NT 10.0; Win64; x64) AppleWebKit/537.36 (KHTML, like Gecko) Chrome/87.0.4280.88 Safari/537.36\")\n",
    "        driver=webdriver.Chrome(options=chrome_options)\n",
    "        driver.get(\"https://www.booking.com/\")\n",
    "        search_field = driver.find_element_by_id('ss')\n",
    "        search_field.send_keys(hotel_name)\n",
    "        print(search_field.text)\n",
    "         WebDriverWait(driver, 30).until(\n",
    "                        EC.element_to_be_clickable((By.CSS_SELECTOR, 'button.sb-searchbox__button')))\n",
    "        driver.find_element_by_class_name('sb-searchbox__button').click()\n",
    "        time.sleep(5)\n",
    "        btn=driver.find_elements(\n",
    "            By.CSS_SELECTOR,\n",
    "            'div.fde444d7ef._c445487e2')[0]\n",
    "        btn.click()\n",
    "        time.sleep(5)\n",
    "        driver.switch_to.active_element\n",
    "        driver.switch_to.window(driver.window_handles[1])\n",
    "        time.sleep(5)\n",
    "        image=driver.find_element(\n",
    "            By.XPATH,\n",
    "            '//*[@id=\"hotel_main_content\"]/div/div[1]/div[4]/a')\n",
    "        image.click()\n",
    "        time.sleep(5)\n",
    "        WebDriverWait(driver, 30).until(\n",
    "                        EC.element_to_be_clickable((By.CSS_SELECTOR, 'img.bh-photo-modal-grid-image')))\n",
    "        img2=driver.find_element(\n",
    "            By.CSS_SELECTOR,\n",
    "            'img.bh-photo-modal-grid-image')\n",
    "        img2.click()\n",
    "        time.sleep(5)\n",
    "        img3=driver.find_element(\n",
    "            By.XPATH,\n",
    "            '//*[@id=\"hotel_main_content\"]/div/div[3]/div[3]/div[1]/div/div[1]/img')\n",
    "        url=img3.get_attribute('src')\n",
    "        response = requests.get(url)\n",
    "        file = open(path+id+\"_photo.jpeg\", \"wb\")\n",
    "        file.write(response.content)\n",
    "        file.close()\n",
    "        driver.quit()\n"
   ]
  },
  {
   "cell_type": "code",
   "execution_count": 91,
   "id": "48f59865",
   "metadata": {},
   "outputs": [
    {
     "name": "stderr",
     "output_type": "stream",
     "text": [
      "C:\\Users\\grich\\AppData\\Local\\Temp\\ipykernel_17308\\1248627392.py:13: DeprecationWarning: find_element_by_* commands are deprecated. Please use find_element() instead\n",
      "  search_field = driver.find_element_by_id('ss')\n"
     ]
    },
    {
     "name": "stdout",
     "output_type": "stream",
     "text": [
      "\n"
     ]
    },
    {
     "name": "stderr",
     "output_type": "stream",
     "text": [
      "C:\\Users\\grich\\AppData\\Local\\Temp\\ipykernel_17308\\1248627392.py:16: DeprecationWarning: find_element_by_* commands are deprecated. Please use find_element() instead\n",
      "  driver.find_element_by_class_name('sb-searchbox__button').click()\n"
     ]
    },
    {
     "name": "stdout",
     "output_type": "stream",
     "text": [
      "\n",
      "\n",
      "\n",
      "\n",
      "\n"
     ]
    },
    {
     "ename": "ElementClickInterceptedException",
     "evalue": "Message: element click intercepted: Element <button data-sb-id=\"main\" type=\"submit\" class=\"sb-searchbox__button \" data-et-click=\"     customGoal:cCHObAURAfVaeYPZZZECVVDJdDBKFRURURHe:2    customGoal:cCHObTRVDEZRdPQBcGCfTKYCccaT:1 goal:www_index_search_button_click  \">...</button> is not clickable at point (391, 350). Other element would receive the click: <li class=\"c-autocomplete__item sb-autocomplete__item sb-autocomplete__item--city\">...</li>\n  (Session info: headless chrome=97.0.4692.99)\nStacktrace:\nBacktrace:\n\tOrdinal0 [0x008B6903+2517251]\n\tOrdinal0 [0x0084F8E1+2095329]\n\tOrdinal0 [0x00752848+1058888]\n\tOrdinal0 [0x00783509+1258761]\n\tOrdinal0 [0x00781868+1251432]\n\tOrdinal0 [0x0077F65D+1242717]\n\tOrdinal0 [0x0077E4A8+1238184]\n\tOrdinal0 [0x00774037+1196087]\n\tOrdinal0 [0x007964D3+1336531]\n\tOrdinal0 [0x00773A36+1194550]\n\tOrdinal0 [0x007965BA+1336762]\n\tOrdinal0 [0x007A5BBF+1399743]\n\tOrdinal0 [0x0079639B+1336219]\n\tOrdinal0 [0x007727A7+1189799]\n\tOrdinal0 [0x00773609+1193481]\n\tGetHandleVerifier [0x00A45904+1577972]\n\tGetHandleVerifier [0x00AF0B97+2279047]\n\tGetHandleVerifier [0x00946D09+534521]\n\tGetHandleVerifier [0x00945DB9+530601]\n\tOrdinal0 [0x00854FF9+2117625]\n\tOrdinal0 [0x008598A8+2136232]\n\tOrdinal0 [0x008599E2+2136546]\n\tOrdinal0 [0x00863541+2176321]\n\tBaseThreadInitThunk [0x75D6FA29+25]\n\tRtlGetAppContainerNamedObjectPath [0x77737A9E+286]\n\tRtlGetAppContainerNamedObjectPath [0x77737A6E+238]\n",
     "output_type": "error",
     "traceback": [
      "\u001b[1;31m---------------------------------------------------------------------------\u001b[0m",
      "\u001b[1;31mElementClickInterceptedException\u001b[0m          Traceback (most recent call last)",
      "Input \u001b[1;32mIn [91]\u001b[0m, in \u001b[0;36m<module>\u001b[1;34m\u001b[0m\n\u001b[0;32m      1\u001b[0m \u001b[38;5;28;01mfor\u001b[39;00m index, row \u001b[38;5;129;01min\u001b[39;00m df\u001b[38;5;241m.\u001b[39miterrows():\n\u001b[1;32m----> 2\u001b[0m      \u001b[43msave_hoel_photo\u001b[49m\u001b[43m(\u001b[49m\u001b[43mrow\u001b[49m\u001b[43m[\u001b[49m\u001b[38;5;124;43m'\u001b[39;49m\u001b[38;5;124;43mHotel_name\u001b[39;49m\u001b[38;5;124;43m'\u001b[39;49m\u001b[43m]\u001b[49m\u001b[43m,\u001b[49m\u001b[43mrow\u001b[49m\u001b[43m[\u001b[49m\u001b[38;5;124;43m'\u001b[39;49m\u001b[38;5;124;43mId_hotel\u001b[39;49m\u001b[38;5;124;43m'\u001b[39;49m\u001b[43m]\u001b[49m\u001b[43m)\u001b[49m\n",
      "Input \u001b[1;32mIn [90]\u001b[0m, in \u001b[0;36msave_hoel_photo\u001b[1;34m(hotel_name, id)\u001b[0m\n\u001b[0;32m     14\u001b[0m search_field\u001b[38;5;241m.\u001b[39msend_keys(hotel_name)\n\u001b[0;32m     15\u001b[0m \u001b[38;5;28mprint\u001b[39m(search_field\u001b[38;5;241m.\u001b[39mtext)\n\u001b[1;32m---> 16\u001b[0m \u001b[43mdriver\u001b[49m\u001b[38;5;241;43m.\u001b[39;49m\u001b[43mfind_element_by_class_name\u001b[49m\u001b[43m(\u001b[49m\u001b[38;5;124;43m'\u001b[39;49m\u001b[38;5;124;43msb-searchbox__button\u001b[39;49m\u001b[38;5;124;43m'\u001b[39;49m\u001b[43m)\u001b[49m\u001b[38;5;241;43m.\u001b[39;49m\u001b[43mclick\u001b[49m\u001b[43m(\u001b[49m\u001b[43m)\u001b[49m\n\u001b[0;32m     17\u001b[0m time\u001b[38;5;241m.\u001b[39msleep(\u001b[38;5;241m5\u001b[39m)\n\u001b[0;32m     18\u001b[0m btn\u001b[38;5;241m=\u001b[39mdriver\u001b[38;5;241m.\u001b[39mfind_elements(\n\u001b[0;32m     19\u001b[0m     By\u001b[38;5;241m.\u001b[39mCSS_SELECTOR,\n\u001b[0;32m     20\u001b[0m     \u001b[38;5;124m'\u001b[39m\u001b[38;5;124mdiv.fde444d7ef._c445487e2\u001b[39m\u001b[38;5;124m'\u001b[39m)[\u001b[38;5;241m0\u001b[39m]\n",
      "File \u001b[1;32mc:\\users\\grich\\pycharmprojects\\pythonproject2\\venv\\lib\\site-packages\\selenium\\webdriver\\remote\\webelement.py:81\u001b[0m, in \u001b[0;36mWebElement.click\u001b[1;34m(self)\u001b[0m\n\u001b[0;32m     79\u001b[0m \u001b[38;5;28;01mdef\u001b[39;00m \u001b[38;5;21mclick\u001b[39m(\u001b[38;5;28mself\u001b[39m) \u001b[38;5;241m-\u001b[39m\u001b[38;5;241m>\u001b[39m \u001b[38;5;28;01mNone\u001b[39;00m:\n\u001b[0;32m     80\u001b[0m     \u001b[38;5;124;03m\"\"\"Clicks the element.\"\"\"\u001b[39;00m\n\u001b[1;32m---> 81\u001b[0m     \u001b[38;5;28;43mself\u001b[39;49m\u001b[38;5;241;43m.\u001b[39;49m\u001b[43m_execute\u001b[49m\u001b[43m(\u001b[49m\u001b[43mCommand\u001b[49m\u001b[38;5;241;43m.\u001b[39;49m\u001b[43mCLICK_ELEMENT\u001b[49m\u001b[43m)\u001b[49m\n",
      "File \u001b[1;32mc:\\users\\grich\\pycharmprojects\\pythonproject2\\venv\\lib\\site-packages\\selenium\\webdriver\\remote\\webelement.py:710\u001b[0m, in \u001b[0;36mWebElement._execute\u001b[1;34m(self, command, params)\u001b[0m\n\u001b[0;32m    708\u001b[0m     params \u001b[38;5;241m=\u001b[39m {}\n\u001b[0;32m    709\u001b[0m params[\u001b[38;5;124m'\u001b[39m\u001b[38;5;124mid\u001b[39m\u001b[38;5;124m'\u001b[39m] \u001b[38;5;241m=\u001b[39m \u001b[38;5;28mself\u001b[39m\u001b[38;5;241m.\u001b[39m_id\n\u001b[1;32m--> 710\u001b[0m \u001b[38;5;28;01mreturn\u001b[39;00m \u001b[38;5;28;43mself\u001b[39;49m\u001b[38;5;241;43m.\u001b[39;49m\u001b[43m_parent\u001b[49m\u001b[38;5;241;43m.\u001b[39;49m\u001b[43mexecute\u001b[49m\u001b[43m(\u001b[49m\u001b[43mcommand\u001b[49m\u001b[43m,\u001b[49m\u001b[43m \u001b[49m\u001b[43mparams\u001b[49m\u001b[43m)\u001b[49m\n",
      "File \u001b[1;32mc:\\users\\grich\\pycharmprojects\\pythonproject2\\venv\\lib\\site-packages\\selenium\\webdriver\\remote\\webdriver.py:424\u001b[0m, in \u001b[0;36mWebDriver.execute\u001b[1;34m(self, driver_command, params)\u001b[0m\n\u001b[0;32m    422\u001b[0m response \u001b[38;5;241m=\u001b[39m \u001b[38;5;28mself\u001b[39m\u001b[38;5;241m.\u001b[39mcommand_executor\u001b[38;5;241m.\u001b[39mexecute(driver_command, params)\n\u001b[0;32m    423\u001b[0m \u001b[38;5;28;01mif\u001b[39;00m response:\n\u001b[1;32m--> 424\u001b[0m     \u001b[38;5;28;43mself\u001b[39;49m\u001b[38;5;241;43m.\u001b[39;49m\u001b[43merror_handler\u001b[49m\u001b[38;5;241;43m.\u001b[39;49m\u001b[43mcheck_response\u001b[49m\u001b[43m(\u001b[49m\u001b[43mresponse\u001b[49m\u001b[43m)\u001b[49m\n\u001b[0;32m    425\u001b[0m     response[\u001b[38;5;124m'\u001b[39m\u001b[38;5;124mvalue\u001b[39m\u001b[38;5;124m'\u001b[39m] \u001b[38;5;241m=\u001b[39m \u001b[38;5;28mself\u001b[39m\u001b[38;5;241m.\u001b[39m_unwrap_value(\n\u001b[0;32m    426\u001b[0m         response\u001b[38;5;241m.\u001b[39mget(\u001b[38;5;124m'\u001b[39m\u001b[38;5;124mvalue\u001b[39m\u001b[38;5;124m'\u001b[39m, \u001b[38;5;28;01mNone\u001b[39;00m))\n\u001b[0;32m    427\u001b[0m     \u001b[38;5;28;01mreturn\u001b[39;00m response\n",
      "File \u001b[1;32mc:\\users\\grich\\pycharmprojects\\pythonproject2\\venv\\lib\\site-packages\\selenium\\webdriver\\remote\\errorhandler.py:247\u001b[0m, in \u001b[0;36mErrorHandler.check_response\u001b[1;34m(self, response)\u001b[0m\n\u001b[0;32m    245\u001b[0m         alert_text \u001b[38;5;241m=\u001b[39m value[\u001b[38;5;124m'\u001b[39m\u001b[38;5;124malert\u001b[39m\u001b[38;5;124m'\u001b[39m]\u001b[38;5;241m.\u001b[39mget(\u001b[38;5;124m'\u001b[39m\u001b[38;5;124mtext\u001b[39m\u001b[38;5;124m'\u001b[39m)\n\u001b[0;32m    246\u001b[0m     \u001b[38;5;28;01mraise\u001b[39;00m exception_class(message, screen, stacktrace, alert_text)  \u001b[38;5;66;03m# type: ignore[call-arg]  # mypy is not smart enough here\u001b[39;00m\n\u001b[1;32m--> 247\u001b[0m \u001b[38;5;28;01mraise\u001b[39;00m exception_class(message, screen, stacktrace)\n",
      "\u001b[1;31mElementClickInterceptedException\u001b[0m: Message: element click intercepted: Element <button data-sb-id=\"main\" type=\"submit\" class=\"sb-searchbox__button \" data-et-click=\"     customGoal:cCHObAURAfVaeYPZZZECVVDJdDBKFRURURHe:2    customGoal:cCHObTRVDEZRdPQBcGCfTKYCccaT:1 goal:www_index_search_button_click  \">...</button> is not clickable at point (391, 350). Other element would receive the click: <li class=\"c-autocomplete__item sb-autocomplete__item sb-autocomplete__item--city\">...</li>\n  (Session info: headless chrome=97.0.4692.99)\nStacktrace:\nBacktrace:\n\tOrdinal0 [0x008B6903+2517251]\n\tOrdinal0 [0x0084F8E1+2095329]\n\tOrdinal0 [0x00752848+1058888]\n\tOrdinal0 [0x00783509+1258761]\n\tOrdinal0 [0x00781868+1251432]\n\tOrdinal0 [0x0077F65D+1242717]\n\tOrdinal0 [0x0077E4A8+1238184]\n\tOrdinal0 [0x00774037+1196087]\n\tOrdinal0 [0x007964D3+1336531]\n\tOrdinal0 [0x00773A36+1194550]\n\tOrdinal0 [0x007965BA+1336762]\n\tOrdinal0 [0x007A5BBF+1399743]\n\tOrdinal0 [0x0079639B+1336219]\n\tOrdinal0 [0x007727A7+1189799]\n\tOrdinal0 [0x00773609+1193481]\n\tGetHandleVerifier [0x00A45904+1577972]\n\tGetHandleVerifier [0x00AF0B97+2279047]\n\tGetHandleVerifier [0x00946D09+534521]\n\tGetHandleVerifier [0x00945DB9+530601]\n\tOrdinal0 [0x00854FF9+2117625]\n\tOrdinal0 [0x008598A8+2136232]\n\tOrdinal0 [0x008599E2+2136546]\n\tOrdinal0 [0x00863541+2176321]\n\tBaseThreadInitThunk [0x75D6FA29+25]\n\tRtlGetAppContainerNamedObjectPath [0x77737A9E+286]\n\tRtlGetAppContainerNamedObjectPath [0x77737A6E+238]\n"
     ]
    }
   ],
   "source": [
    "for index, row in df.iterrows():\n",
    "     save_hoel_photo(row['Hotel_name'],row['Id_hotel'])"
   ]
  }
 ],
 "metadata": {
  "kernelspec": {
   "display_name": "Python 3 (ipykernel)",
   "language": "python",
   "name": "python3"
  },
  "language_info": {
   "codemirror_mode": {
    "name": "ipython",
    "version": 3
   },
   "file_extension": ".py",
   "mimetype": "text/x-python",
   "name": "python",
   "nbconvert_exporter": "python",
   "pygments_lexer": "ipython3",
   "version": "3.9.10"
  }
 },
 "nbformat": 4,
 "nbformat_minor": 5
}
